{
  "nbformat": 4,
  "nbformat_minor": 0,
  "metadata": {
    "colab": {
      "provenance": [],
      "authorship_tag": "ABX9TyN/kADSDUdVTjNUqMR/LORj",
      "include_colab_link": true
    },
    "kernelspec": {
      "name": "python3",
      "display_name": "Python 3"
    },
    "language_info": {
      "name": "python"
    }
  },
  "cells": [
    {
      "cell_type": "markdown",
      "metadata": {
        "id": "view-in-github",
        "colab_type": "text"
      },
      "source": [
        "<a href=\"https://colab.research.google.com/github/Yorrana1234/tecnicasdedesenvolvimentosdealgoritimos/blob/main/Lista3_Python_YorranaGabryelly_SISTEMAS__DE_INFORMA%C3%87%C3%83O_ipynb.ipynb\" target=\"_parent\"><img src=\"https://colab.research.google.com/assets/colab-badge.svg\" alt=\"Open In Colab\"/></a>"
      ]
    },
    {
      "cell_type": "code",
      "source": [
        "'''1. Elabore um algoritmo que imprima na tela lado a lado o texto \"Hello World!\" 10 vezes.'''\n",
        "for count in range(0,10):\n",
        "  print(\"Hello World!\",end=\" \")"
      ],
      "metadata": {
        "colab": {
          "base_uri": "https://localhost:8080/"
        },
        "id": "79Ce62NIcAm3",
        "outputId": "cb8dc745-550c-49f8-e3ab-20ed22b53ac7"
      },
      "execution_count": 2,
      "outputs": [
        {
          "output_type": "stream",
          "name": "stdout",
          "text": [
            "Hello World! Hello World! Hello World! Hello World! Hello World! Hello World! Hello World! Hello World! Hello World! Hello World! "
          ]
        }
      ]
    },
    {
      "cell_type": "code",
      "source": [
        "'''2. Elabore um algoritmo que imprima na tela o texto \"Hello World!\" 10 vezes, um por linha.'''\n",
        "for count in range(0,10):\n",
        "  print(\"Hello World!\")"
      ],
      "metadata": {
        "colab": {
          "base_uri": "https://localhost:8080/"
        },
        "id": "rV4bPd0rcy7W",
        "outputId": "6eb0b671-b3f1-4a29-c55e-415ec49cdfb2"
      },
      "execution_count": 3,
      "outputs": [
        {
          "output_type": "stream",
          "name": "stdout",
          "text": [
            "Hello World!\n",
            "Hello World!\n",
            "Hello World!\n",
            "Hello World!\n",
            "Hello World!\n",
            "Hello World!\n",
            "Hello World!\n",
            "Hello World!\n",
            "Hello World!\n",
            "Hello World!\n"
          ]
        }
      ]
    },
    {
      "cell_type": "code",
      "source": [
        "'''3. Elabore um algoritmo que imprima todos os números inteiros de 1 até 100 inclusive.'''\n",
        "for count in range(1,101):\n",
        "  print(count)"
      ],
      "metadata": {
        "id": "NSgvyU8ac2oO"
      },
      "execution_count": null,
      "outputs": []
    },
    {
      "cell_type": "code",
      "source": [
        "'''4. Elabore um algoritmo que imprima 100 vezes o texto \"1- Hello World!\" com o número.'''\n",
        "for count in range(1,100):\n",
        "  print(f\"{count}- Hello World\")"
      ],
      "metadata": {
        "colab": {
          "base_uri": "https://localhost:8080/"
        },
        "id": "2mHAxTJac4sX",
        "outputId": "3aac169c-93c1-4306-803e-32d025884db3"
      },
      "execution_count": 5,
      "outputs": [
        {
          "output_type": "stream",
          "name": "stdout",
          "text": [
            "1- Hello World\n",
            "2- Hello World\n",
            "3- Hello World\n",
            "4- Hello World\n",
            "5- Hello World\n",
            "6- Hello World\n",
            "7- Hello World\n",
            "8- Hello World\n",
            "9- Hello World\n",
            "10- Hello World\n",
            "11- Hello World\n",
            "12- Hello World\n",
            "13- Hello World\n",
            "14- Hello World\n",
            "15- Hello World\n",
            "16- Hello World\n",
            "17- Hello World\n",
            "18- Hello World\n",
            "19- Hello World\n",
            "20- Hello World\n",
            "21- Hello World\n",
            "22- Hello World\n",
            "23- Hello World\n",
            "24- Hello World\n",
            "25- Hello World\n",
            "26- Hello World\n",
            "27- Hello World\n",
            "28- Hello World\n",
            "29- Hello World\n",
            "30- Hello World\n",
            "31- Hello World\n",
            "32- Hello World\n",
            "33- Hello World\n",
            "34- Hello World\n",
            "35- Hello World\n",
            "36- Hello World\n",
            "37- Hello World\n",
            "38- Hello World\n",
            "39- Hello World\n",
            "40- Hello World\n",
            "41- Hello World\n",
            "42- Hello World\n",
            "43- Hello World\n",
            "44- Hello World\n",
            "45- Hello World\n",
            "46- Hello World\n",
            "47- Hello World\n",
            "48- Hello World\n",
            "49- Hello World\n",
            "50- Hello World\n",
            "51- Hello World\n",
            "52- Hello World\n",
            "53- Hello World\n",
            "54- Hello World\n",
            "55- Hello World\n",
            "56- Hello World\n",
            "57- Hello World\n",
            "58- Hello World\n",
            "59- Hello World\n",
            "60- Hello World\n",
            "61- Hello World\n",
            "62- Hello World\n",
            "63- Hello World\n",
            "64- Hello World\n",
            "65- Hello World\n",
            "66- Hello World\n",
            "67- Hello World\n",
            "68- Hello World\n",
            "69- Hello World\n",
            "70- Hello World\n",
            "71- Hello World\n",
            "72- Hello World\n",
            "73- Hello World\n",
            "74- Hello World\n",
            "75- Hello World\n",
            "76- Hello World\n",
            "77- Hello World\n",
            "78- Hello World\n",
            "79- Hello World\n",
            "80- Hello World\n",
            "81- Hello World\n",
            "82- Hello World\n",
            "83- Hello World\n",
            "84- Hello World\n",
            "85- Hello World\n",
            "86- Hello World\n",
            "87- Hello World\n",
            "88- Hello World\n",
            "89- Hello World\n",
            "90- Hello World\n",
            "91- Hello World\n",
            "92- Hello World\n",
            "93- Hello World\n",
            "94- Hello World\n",
            "95- Hello World\n",
            "96- Hello World\n",
            "97- Hello World\n",
            "98- Hello World\n",
            "99- Hello World\n"
          ]
        }
      ]
    },
    {
      "cell_type": "code",
      "source": [
        "'''5. Elabore um algoritmo que imprima todos os números decrescentes de 100 até 0 inclusive.'''\n",
        "for count in range(100,-1,-1):\n",
        "  print(count)"
      ],
      "metadata": {
        "id": "XHqLztJ9c7fe"
      },
      "execution_count": null,
      "outputs": []
    },
    {
      "cell_type": "code",
      "source": [
        "'''6. Elabore um algoritmo que imprima todos os números pares inteiros de 1 até 1000.'''\n",
        "for count in range(1,1001):\n",
        "  if count%2==0:\n",
        "    print(count)"
      ],
      "metadata": {
        "id": "-fCx8yM2c992"
      },
      "execution_count": null,
      "outputs": []
    },
    {
      "cell_type": "code",
      "source": [
        "'''7. Elabore um algoritmo que imprima todos os números ímpares de 1000 até 0.'''\n",
        "for count in range(1000,-1,-1):\n",
        "  if count%2==1:\n",
        "    print(count)"
      ],
      "metadata": {
        "id": "CAJ3EjFlc_2m"
      },
      "execution_count": null,
      "outputs": []
    },
    {
      "cell_type": "code",
      "source": [
        "'''8. Elabore um algoritmo que imprima a soma dos 100 primeiros números inteiros positivos.'''\n",
        "soma=0\n",
        "for count in range(0,101):\n",
        "  soma+=count\n",
        "print(soma)\n",
        ""
      ],
      "metadata": {
        "id": "tCaj0tLUdCAu"
      },
      "execution_count": null,
      "outputs": []
    },
    {
      "cell_type": "code",
      "source": [
        "'''9. Elabore um algoritmo que solicite ao usuário um número inteiro que indicará a quantidade\n",
        "de vezes que o texto \"Hello World!\" será impresso na tela, um em cada linha.'''\n",
        "count=int(input(\"Digite a quantidade de vezes que o texto 'Hello World' será impresso: \"))\n",
        "for inicio in range(0,count):\n",
        "  print(\"Hello World\")\n",
        ""
      ],
      "metadata": {
        "id": "0DRN53mrdEI-"
      },
      "execution_count": null,
      "outputs": []
    },
    {
      "cell_type": "code",
      "source": [
        "'''10. Elabore um algoritmo que solicite ao usuário uma palavra e um número inteiro que\n",
        "indicará a quantidade de vezes que a palavra digitada será impressa na tela, um em cada\n",
        "linha.'''\n",
        "palavra=input(\"Digite uma palavra: \")\n",
        "count=int(input(\"Digite a quantidade de vezes que a palavra será repitida: \"))\n",
        "for inicio in range(0,count):\n",
        "  print(palavra)"
      ],
      "metadata": {
        "id": "_-lZNBcfdGSm"
      },
      "execution_count": null,
      "outputs": []
    },
    {
      "cell_type": "code",
      "source": [
        "'''11. Elabore um algoritmo que leia um número de entrada que indicará a quantidade de\n",
        "números a serem lidos. Em seguida, leia n números (conforme o valor informado\n",
        "anteriormente) e imprima a soma e a média aritmética dos números informados.'''\n",
        "countNum=int(input(\"Digite a quantidade de números a serem lidos: \"))\n",
        "soma=0\n",
        "for inicio in range(0,countNum):\n",
        "  print(\"Informe o \",inicio+1,\". número: \")\n",
        "  num=int(input())\n",
        "  soma+=num\n",
        "\n",
        "media=soma/countNum\n",
        "\n",
        "print(f\"A soma dos números é: {soma}\")\n",
        "print(f\"A média aritmética dos números é: {media}\")"
      ],
      "metadata": {
        "id": "mJ7ILRhodInO"
      },
      "execution_count": null,
      "outputs": []
    },
    {
      "cell_type": "code",
      "source": [
        "\n",
        "'''12. Elabore um algoritmo que leia um número de entrada que indicará a quantidade de\n",
        "registros a serem lidos (N). Em seguida algoritmo deve solicitar o nome e idade de N\n",
        "pessoas e ao final apresentar o nome da pessoa mais velha.'''\n",
        "numRegistros=int(input(\"Digite a quantidade de registros a serem lidos: \"))\n",
        "idadeV=0\n",
        "nomeV=\"\"\n",
        "\n",
        "for inicio in range(0,numRegistros):\n",
        "  print(\"Informe o nome da \",inicio+1,\". pessoa: \")\n",
        "  nome=input()\n",
        "  print(\"informe a idade da \",inicio+1,\". pessoa: \")\n",
        "  idade=int(input())\n",
        "  if(idade>idadeV):\n",
        "    idadeV=idade\n",
        "    nomeV=nome\n",
        "if(idadeV>0):\n",
        "  print(f\"A pessoa mais velha é {nomeV}\")\n",
        "print(\"Programa Finalizado.\")"
      ],
      "metadata": {
        "id": "FcVrpKqXdK7-"
      },
      "execution_count": null,
      "outputs": []
    },
    {
      "cell_type": "code",
      "source": [
        "'''13. Elabore um algoritmo que leia um número de entrada que indicará a quantidade de\n",
        "registros a serem lidos (N). Em seguida algoritmo deve solicitar o sexo (M/F) e idade de N\n",
        "pessoas e ao final apresentar a média de idade de ambos os gêneros catalogados.'''\n",
        "somaM=0\n",
        "somaF=0\n",
        "numHomens=0\n",
        "numMulheres=0\n",
        "count=int(input(\"Digite a quantidade de registros a serem lidos: \"))\n",
        "for inicio in range(0,count):\n",
        "  print(\"Informe o sexo da \",inicio+1,\". pessoa: [M/F]\")\n",
        "  sexo=input()\n",
        "  print(\"Informa a idade da \",inicio+1,\". pessoa: \")\n",
        "  idade=int(input())\n",
        "  if sexo.upper()=='M':\n",
        "    somaM+=idade\n",
        "    numHomens+=1\n",
        "  elif sexo.upper()=='F':\n",
        "    somaF+=idade\n",
        "    numMulheres+=1\n",
        "\n",
        "mediaM=somaM/numHomens\n",
        "mediaF=somaF/numMulheres\n",
        "\n",
        "print(f\"A média de idade dos homens é: {mediaM}\")\n",
        "print(f\"A média de idade das mulheres é: {mediaF}\")"
      ],
      "metadata": {
        "colab": {
          "base_uri": "https://localhost:8080/",
          "height": 356
        },
        "id": "UtsbsYtidOFo",
        "outputId": "e3c92f84-0623-4d5c-877a-be230bf1fc20"
      },
      "execution_count": 4,
      "outputs": [
        {
          "output_type": "error",
          "ename": "KeyboardInterrupt",
          "evalue": "Interrupted by user",
          "traceback": [
            "\u001b[0;31m---------------------------------------------------------------------------\u001b[0m",
            "\u001b[0;31mKeyboardInterrupt\u001b[0m                         Traceback (most recent call last)",
            "\u001b[0;32m/tmp/ipython-input-3307624811.py\u001b[0m in \u001b[0;36m<cell line: 0>\u001b[0;34m()\u001b[0m\n\u001b[1;32m      6\u001b[0m \u001b[0mnumHomens\u001b[0m\u001b[0;34m=\u001b[0m\u001b[0;36m0\u001b[0m\u001b[0;34m\u001b[0m\u001b[0;34m\u001b[0m\u001b[0m\n\u001b[1;32m      7\u001b[0m \u001b[0mnumMulheres\u001b[0m\u001b[0;34m=\u001b[0m\u001b[0;36m0\u001b[0m\u001b[0;34m\u001b[0m\u001b[0;34m\u001b[0m\u001b[0m\n\u001b[0;32m----> 8\u001b[0;31m \u001b[0mcount\u001b[0m\u001b[0;34m=\u001b[0m\u001b[0mint\u001b[0m\u001b[0;34m(\u001b[0m\u001b[0minput\u001b[0m\u001b[0;34m(\u001b[0m\u001b[0;34m\"Digite a quantidade de registros a serem lidos: \"\u001b[0m\u001b[0;34m)\u001b[0m\u001b[0;34m)\u001b[0m\u001b[0;34m\u001b[0m\u001b[0;34m\u001b[0m\u001b[0m\n\u001b[0m\u001b[1;32m      9\u001b[0m \u001b[0;32mfor\u001b[0m \u001b[0minicio\u001b[0m \u001b[0;32min\u001b[0m \u001b[0mrange\u001b[0m\u001b[0;34m(\u001b[0m\u001b[0;36m0\u001b[0m\u001b[0;34m,\u001b[0m\u001b[0mcount\u001b[0m\u001b[0;34m)\u001b[0m\u001b[0;34m:\u001b[0m\u001b[0;34m\u001b[0m\u001b[0;34m\u001b[0m\u001b[0m\n\u001b[1;32m     10\u001b[0m   \u001b[0mprint\u001b[0m\u001b[0;34m(\u001b[0m\u001b[0;34m\"Informe o sexo da \"\u001b[0m\u001b[0;34m,\u001b[0m\u001b[0minicio\u001b[0m\u001b[0;34m+\u001b[0m\u001b[0;36m1\u001b[0m\u001b[0;34m,\u001b[0m\u001b[0;34m\". pessoa: [M/F]\"\u001b[0m\u001b[0;34m)\u001b[0m\u001b[0;34m\u001b[0m\u001b[0;34m\u001b[0m\u001b[0m\n",
            "\u001b[0;32m/usr/local/lib/python3.12/dist-packages/ipykernel/kernelbase.py\u001b[0m in \u001b[0;36mraw_input\u001b[0;34m(self, prompt)\u001b[0m\n\u001b[1;32m   1175\u001b[0m                 \u001b[0;34m\"raw_input was called, but this frontend does not support input requests.\"\u001b[0m\u001b[0;34m\u001b[0m\u001b[0;34m\u001b[0m\u001b[0m\n\u001b[1;32m   1176\u001b[0m             )\n\u001b[0;32m-> 1177\u001b[0;31m         return self._input_request(\n\u001b[0m\u001b[1;32m   1178\u001b[0m             \u001b[0mstr\u001b[0m\u001b[0;34m(\u001b[0m\u001b[0mprompt\u001b[0m\u001b[0;34m)\u001b[0m\u001b[0;34m,\u001b[0m\u001b[0;34m\u001b[0m\u001b[0;34m\u001b[0m\u001b[0m\n\u001b[1;32m   1179\u001b[0m             \u001b[0mself\u001b[0m\u001b[0;34m.\u001b[0m\u001b[0m_parent_ident\u001b[0m\u001b[0;34m[\u001b[0m\u001b[0;34m\"shell\"\u001b[0m\u001b[0;34m]\u001b[0m\u001b[0;34m,\u001b[0m\u001b[0;34m\u001b[0m\u001b[0;34m\u001b[0m\u001b[0m\n",
            "\u001b[0;32m/usr/local/lib/python3.12/dist-packages/ipykernel/kernelbase.py\u001b[0m in \u001b[0;36m_input_request\u001b[0;34m(self, prompt, ident, parent, password)\u001b[0m\n\u001b[1;32m   1217\u001b[0m             \u001b[0;32mexcept\u001b[0m \u001b[0mKeyboardInterrupt\u001b[0m\u001b[0;34m:\u001b[0m\u001b[0;34m\u001b[0m\u001b[0;34m\u001b[0m\u001b[0m\n\u001b[1;32m   1218\u001b[0m                 \u001b[0;31m# re-raise KeyboardInterrupt, to truncate traceback\u001b[0m\u001b[0;34m\u001b[0m\u001b[0;34m\u001b[0m\u001b[0m\n\u001b[0;32m-> 1219\u001b[0;31m                 \u001b[0;32mraise\u001b[0m \u001b[0mKeyboardInterrupt\u001b[0m\u001b[0;34m(\u001b[0m\u001b[0;34m\"Interrupted by user\"\u001b[0m\u001b[0;34m)\u001b[0m \u001b[0;32mfrom\u001b[0m \u001b[0;32mNone\u001b[0m\u001b[0;34m\u001b[0m\u001b[0;34m\u001b[0m\u001b[0m\n\u001b[0m\u001b[1;32m   1220\u001b[0m             \u001b[0;32mexcept\u001b[0m \u001b[0mException\u001b[0m\u001b[0;34m:\u001b[0m\u001b[0;34m\u001b[0m\u001b[0;34m\u001b[0m\u001b[0m\n\u001b[1;32m   1221\u001b[0m                 \u001b[0mself\u001b[0m\u001b[0;34m.\u001b[0m\u001b[0mlog\u001b[0m\u001b[0;34m.\u001b[0m\u001b[0mwarning\u001b[0m\u001b[0;34m(\u001b[0m\u001b[0;34m\"Invalid Message:\"\u001b[0m\u001b[0;34m,\u001b[0m \u001b[0mexc_info\u001b[0m\u001b[0;34m=\u001b[0m\u001b[0;32mTrue\u001b[0m\u001b[0;34m)\u001b[0m\u001b[0;34m\u001b[0m\u001b[0;34m\u001b[0m\u001b[0m\n",
            "\u001b[0;31mKeyboardInterrupt\u001b[0m: Interrupted by user"
          ]
        }
      ]
    },
    {
      "cell_type": "code",
      "source": [
        "'''14. Elabore um algoritmo que solicite ao usuário 10 números reais e ao final apresente o\n",
        "maior e o menor deles.'''\n",
        "num=float(input(\"Informe o 1. número: \"))\n",
        "maior=menor=num\n",
        "for count in range(0,10):\n",
        "  print(\"Informe o \",count+2,\". número: \")\n",
        "  num=float(input())\n",
        "  if(num>maior):\n",
        "    maior=num\n",
        "  elif num\n"
      ],
      "metadata": {
        "id": "_bW5w0hUdUGm"
      },
      "execution_count": null,
      "outputs": []
    },
    {
      "cell_type": "code",
      "source": [
        "'''15. Elabore um algoritmo que solicite N números reais e quando o usuário informar o valor\n",
        "nulo 0 (zero) o programa ordene e mostre todos os números informados de forma crescente.'''\n",
        "numeros=[]\n",
        "num=float(input(\"Digite o 1. número: (O comando de parada é o número 0)\"))\n",
        "numeros.append(num)\n",
        "if numeros[0]==0:\n",
        "  print(\"Programa Finalizado\")\n",
        "  inicio=1\n",
        "while True:\n",
        "  print(\"Digite o \",inicio+1,\". número: (O comando de parada é o número 0)\")\n",
        "  num=float(input())\n",
        "  numeros.append(num)\n",
        "  if numeros[inicio]==0:\n",
        "    break\n",
        "  inicio+=1\n",
        "numeros.sort()\n",
        "print(\"Os números em ordem crescente são: \")\n",
        "for x in numeros:\n",
        "  print(x)\n"
      ],
      "metadata": {
        "id": "9FzBXvRFdXu9"
      },
      "execution_count": null,
      "outputs": []
    },
    {
      "cell_type": "code",
      "source": [
        "'''16. Escreva um programa que vá solicitando as idades dos alunos da sala até que todos\n",
        "sejam informados (perguntar ao usuário se deseja informar a idade do próximo aluno). Ao\n",
        "final apresentar a idade do mais novo, a idade do mais velho, Quantos alunos têm mais de\n",
        "18 anos, quantos alunos têm até 18 anos, a média aritmética e a mediana.'''\n",
        "\n",
        "maior18=menor18=maisVelho=maisNovo=media=0\n",
        "mediana=[]\n",
        "while True:\n",
        "  idade=int(input(\"Informe a idade do aluno: \"))\n",
        "  maior18+=1 if idade>=18 else 0\n",
        "  menor18+=1 if idade<18 and idade>0 else 0\n",
        "  if idade>0:\n",
        "    media+=idade\n",
        "    mediana.append(idade)\n",
        "  else:\n",
        "    print(\"Idade Inválida, utilize números inteiros positivos\")\n",
        "  resN=[\"NAO\",\"NÃO\",\"N\"]\n",
        "  teste=input(\"Deseja informa a idade de outro aluno? [S/N]\")\n",
        "  if teste.upper() in resN:\n",
        "    break\n",
        "maisVelho= max(mediana)\n",
        "maisNovo= min(mediana)\n",
        "mediaIdade=media/len(mediana)\n",
        "mediana.sort()\n",
        "n=len(mediana)\n",
        "if n%2==1:\n",
        "  valorMediana=mediana[n//2]\n",
        "elif n%2==0:\n",
        "  valorMediana=(mediana[n//2-1]+mediana[n//2])/2\n",
        "print(f\"O aluno mais novo tem {maisNovo} anos\")\n",
        "print(f\"O aluno mais velho tem {maisVelho} anos\")\n",
        "print(f\"Há {maior18} alunos com mais de 18 anos\")\n",
        "print(f\"Há {menor18} alunos com menos de 18 anos\")\n",
        "print(f\"A média de idade dos alunos é: {mediaIdade}\")\n",
        "print((f\"A mediana de idade dos alunos é: {valorMediana}\"))"
      ],
      "metadata": {
        "id": "HMiBDyQPdhEY"
      },
      "execution_count": null,
      "outputs": []
    }
  ]
}