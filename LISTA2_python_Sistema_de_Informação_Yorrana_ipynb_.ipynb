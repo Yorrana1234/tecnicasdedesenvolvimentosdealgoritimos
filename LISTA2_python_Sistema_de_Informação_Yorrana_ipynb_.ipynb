{
  "cells": [
    {
      "cell_type": "markdown",
      "metadata": {
        "id": "view-in-github",
        "colab_type": "text"
      },
      "source": [
        "<a href=\"https://colab.research.google.com/github/Yorrana1234/tecnicasdedesenvolvimentosdealgoritimos/blob/main/LISTA2_python_Sistema_de_Informa%C3%A7%C3%A3o_Yorrana_ipynb_.ipynb\" target=\"_parent\"><img src=\"https://colab.research.google.com/assets/colab-badge.svg\" alt=\"Open In Colab\"/></a>"
      ]
    },
    {
      "cell_type": "markdown",
      "metadata": {
        "id": "XtmnUeBZC51e"
      },
      "source": [
        "Nome: Yorrana Gabryelly Ribeiro Marques\n",
        "\n",
        "Turma: SISTEMAS DE INFORMAÇÃO\n",
        "\n",
        "Disciplina: Técnicas de Desenvolvimento de Algoritmo\n",
        "\n",
        "![download.png](data:image/png;base64,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)\n",
        "\n"
      ]
    },
    {
      "cell_type": "markdown",
      "metadata": {
        "id": "ucey1i1JFUrI"
      },
      "source": [
        "LISTA 2- ESTRUTURAS CONDICIONAIS (IF, ELIF, ELSE)"
      ]
    },
    {
      "cell_type": "code",
      "execution_count": null,
      "metadata": {
        "id": "rRIOHajMFW2X"
      },
      "outputs": [],
      "source": [
        "\n",
        "numero_real=float(input(\"informe um numero_real: \"))\n",
        "if numero_real>10:\n",
        "  print(\"o numero informado foi: \", numero_real, \"ele é maior que 10\")"
      ]
    },
    {
      "cell_type": "code",
      "execution_count": null,
      "metadata": {
        "id": "rIo07Jn_HOPs"
      },
      "outputs": [],
      "source": [
        "print(\"informe um numero real: \")\n",
        "numero_real= float (input())\n",
        "if numero_real >=10:\n",
        "  print(\"o numero é igual ou maior a 10\")\n",
        "elif numero_real <10:\n",
        "  print(\"o numero digitado é menor a 10\")"
      ]
    },
    {
      "cell_type": "code",
      "execution_count": null,
      "metadata": {
        "id": "lPveyMlMIg2b"
      },
      "outputs": [],
      "source": [
        "numero_real=float(input(\"informe um numero real \"))\n",
        "if numero_real>10:\n",
        "    print(\"o numero informado é maior que 10: \")\n",
        "elif numero_real<10:\n",
        "     print(\"o numero informado é menor que 10: \")"
      ]
    },
    {
      "cell_type": "code",
      "execution_count": null,
      "metadata": {
        "id": "eC3QmKquKTSA"
      },
      "outputs": [],
      "source": [
        "numero_real=float(input(\"informe um numero real \"))\n",
        "if numero_real<0:\n",
        "    print(\"o numero informado é negativo: \")\n",
        "elif numero_real>0:\n",
        "    print(\"o numero informado é positivo\")\n"
      ]
    },
    {
      "cell_type": "code",
      "execution_count": null,
      "metadata": {
        "id": "RFxpX_6bLWb4"
      },
      "outputs": [],
      "source": [
        "numero_inteiro=int(input(\"informe um numero inteiro \"))\n",
        "if numero_inteiro%3==0:\n",
        "   print(\" o numero inteiro é \")\n",
        "else:\n",
        "    print(\"o numero inteiro não é \")"
      ]
    },
    {
      "cell_type": "code",
      "execution_count": null,
      "metadata": {
        "id": "HcVnClr8NUR2"
      },
      "outputs": [],
      "source": [
        "numero_inteiro=int(input(\"informe um numero inteiro \"))\n",
        "teste=int(input(\"informe um numero teste\"))\n",
        "if numero_inteiro % teste ==0:\n",
        "   print(f\" o numero inteiro{numero_inteiro} é multiplo de{teste}\")\n"
      ]
    },
    {
      "cell_type": "code",
      "execution_count": null,
      "metadata": {
        "id": "vPd-wpeUGmK5"
      },
      "outputs": [],
      "source": [
        "numero_inteiro=int(input(\"informe um numero inteiro  \"))\n",
        "if numero_inteiro% 2==0:\n",
        "    print(\"O número é par.\")\n",
        "else:\n",
        "    print(\"O número é ímpar.\")"
      ]
    },
    {
      "cell_type": "code",
      "execution_count": null,
      "metadata": {
        "id": "AFSUY9Kan08f"
      },
      "outputs": [],
      "source": [
        "numero_inteiro=int(input(\"informe um numero inteiro  \"))\n",
        "if numero_inteiro>20:\n",
        "    print(f\"o numero_inteiro é {numero_inteiro/2}]\")\n",
        "else:\n",
        "      print(f\"o numero_inteiro é {numero_inteiro*2}\")"
      ]
    },
    {
      "cell_type": "code",
      "execution_count": null,
      "metadata": {
        "colab": {
          "base_uri": "https://localhost:8080/",
          "height": 106
        },
        "id": "GAFfvWKvQJgl",
        "outputId": "6153e5da-c2b2-4dc1-fd35-0e1b4f19fe71"
      },
      "outputs": [
        {
          "ename": "SyntaxError",
          "evalue": "invalid syntax (ipython-input-407056176.py, line 2)",
          "output_type": "error",
          "traceback": [
            "\u001b[0;36m  File \u001b[0;32m\"/tmp/ipython-input-407056176.py\"\u001b[0;36m, line \u001b[0;32m2\u001b[0m\n\u001b[0;31m    5 n1 = int(input())\u001b[0m\n\u001b[0m      ^\u001b[0m\n\u001b[0;31mSyntaxError\u001b[0m\u001b[0;31m:\u001b[0m invalid syntax\n"
          ]
        }
      ],
      "source": [
        "print(\"digite um numero:  \")\n",
        "5 n1 = int(input())\n",
        "6   print(\"digite outro numero\")\n",
        "7 n2 = Int(input())\n",
        "8 soma = n1+n2\n",
        "9 if soma>10:\n",
        "18    print (soma*soma)\n",
        "11 else:\n",
        "12\n",
        "print (soma/2)"
      ]
    },
    {
      "cell_type": "code",
      "execution_count": null,
      "metadata": {
        "id": "52SwQ-B5RHSB"
      },
      "outputs": [],
      "source": [
        "'''\n",
        "Exercicio 10 Lista 10\n",
        "'''\n",
        "print(\"digite a nota 1: \")\n",
        "n1 = float(input())\n",
        "print(\"digite a nota 2: \")\n",
        "n2 = float (input())\n",
        "print(\"digite a nota 3: \")\n",
        "n3 = float(input())\n",
        "p1 = 2\n",
        "p2 = 3\n",
        "p3 = 5\n",
        "pesos = p1+p2+p3\n",
        "mp = ((n1*p1)+(n2*p2)+(n3*p3))/pesos\n",
        "print(\"A média do aluno foi:\", mp)\n",
        "if mp >=6.0:\n",
        "  print(\"aprovado\")\n",
        "else:\n",
        "  print(\"reprovado\")]"
      ]
    },
    {
      "cell_type": "code",
      "execution_count": null,
      "metadata": {
        "id": "2qWSe21MRdKB"
      },
      "outputs": [],
      "source": [
        "print(\"digite seu nome: \")\n",
        "nome1 = str(input())\n",
        "print(\"informe seu peso: \")\n",
        "peso1 = float(input())\n",
        "print(\"digite outro nome: \")\n",
        "nome2 = str(input())\n",
        "print(\"agora novamente outro peso: \")\n",
        "peso2 = float(input())\n",
        "if peso1>peso2:\n",
        "  print(\"a pessoa mais pesada é: \", nome1)\n",
        "else:\n",
        "  print(\"a pessoa mais pesada é: \", nome2)"
      ]
    },
    {
      "cell_type": "code",
      "execution_count": null,
      "metadata": {
        "id": "Kcjeoas5RhAa"
      },
      "outputs": [],
      "source": [
        "print(\"digite um numero: \")\n",
        "numero = int(input())\n",
        "if numero >=20 and numero <=90:\n",
        "  print(\"o numero esta compreendido entre 20 e 90\")\n",
        "else:\n",
        "  print(\"o numero nao esta compreendido entre 20 e 90\")"
      ]
    },
    {
      "cell_type": "code",
      "execution_count": null,
      "metadata": {
        "id": "0A53-U7xRjht"
      },
      "outputs": [],
      "source": [
        "print(\"digite um numero\")\n",
        "numero1 = int(input())\n",
        "print(\"digite outro numero\")\n",
        "numero2 = int(input())\n",
        "if (numero1) > (numero2):\n",
        "  print(f\"o numero {numero1} é maior que {numero2}\")\n",
        "elif numero1 < numero2:\n",
        "  print(f\"o numero {numero1} é menor que {numero2}\")\n",
        "else:\n",
        "  print(f\"os numeros{numero1} e {numero2} sao iguais \")"
      ]
    },
    {
      "cell_type": "code",
      "execution_count": null,
      "metadata": {
        "colab": {
          "background_save": true,
          "base_uri": "https://localhost:8080/"
        },
        "id": "AMW1RFvtRmWE",
        "outputId": "91f2ad5b-f814-4f4a-e03e-9b07737691f8"
      },
      "outputs": [
        {
          "name": "stdout",
          "output_type": "stream",
          "text": [
            "digite um nome: \n"
          ]
        }
      ],
      "source": [
        "print(\"digite um nome: \")\n",
        "nome = str(input())\n",
        "print(\"digite seu sexo: \")\n",
        "sexo = str(input())\n",
        "print(\"digite a primeira nota: \")\n",
        "n1 = float(input())\n",
        "print(\"digite a segunda nota: \")\n",
        "n2 = float(input())\n",
        "print(\"digite a terceira nota: \")\n",
        "n3 = float(input())\n",
        "media = (n1+n2+n3)/3\n",
        "if media >=6:\n",
        "  print(f\"o aluno {nome} de sexo {sexo} foi aprovado com media {media}\")\n",
        "elif media <6:\n",
        "  print(f\"o aluno {nome} de sexo {sexo} foi reprovado com media {media}\")"
      ]
    }
  ],
  "metadata": {
    "colab": {
      "provenance": [],
      "include_colab_link": true
    },
    "kernelspec": {
      "display_name": "Python 3",
      "name": "python3"
    },
    "language_info": {
      "name": "python"
    }
  },
  "nbformat": 4,
  "nbformat_minor": 0
}